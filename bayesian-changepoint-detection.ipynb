{
 "metadata": {
  "kernelspec": {
   "language": "python",
   "display_name": "Python 3",
   "name": "python3"
  },
  "language_info": {
   "pygments_lexer": "ipython3",
   "nbconvert_exporter": "python",
   "version": "3.6.4",
   "file_extension": ".py",
   "codemirror_mode": {
    "name": "ipython",
    "version": 3
   },
   "name": "python",
   "mimetype": "text/x-python"
  }
 },
 "nbformat_minor": 4,
 "nbformat": 4,
 "cells": [
  {
   "cell_type": "markdown",
   "source": [
    "Certain use-cases of changepoint detection are analysis of the point when\n",
    "* A server began to overload.\n",
    "* A campaign began to kick-in.\n",
    "* A user behaviour took a drastic change\n",
    "* and many more"
   ],
   "metadata": {
    "pycharm": {
     "name": "#%% md\n"
    }
   }
  },
  {
   "cell_type": "code",
   "source": [
    "# This Python 3 environment comes with many helpful analytics libraries installed\n",
    "# It is defined by the kaggle/python Docker image: https://github.com/kaggle/docker-python\n",
    "# For example, here's several helpful packages to load\n",
    "\n",
    "import numpy as np # linear algebra\n",
    "import pandas as pd # data processing, CSV file I/O (e.g. pd.read_csv)\n",
    "\n",
    "# Input data files are available in the read-only \"../input/\" directory\n",
    "# For example, running this (by clicking run or pressing Shift+Enter) will list all files under the input directory\n",
    "\n",
    "import os\n",
    "#for dirname, _, filenames in os.walk('/kaggle/input'):\n",
    "#    for filename in filenames:\n",
    "#        print(os.path.join(dirname, filename))\n",
    "\n",
    "# You can write up to 20GB to the current directory (/kaggle/working/) that gets preserved as output when you create a version using \"Save & Run All\" \n",
    "# You can also write temporary files to /kaggle/temp/, but they won't be saved outside of the current session"
   ],
   "metadata": {
    "_uuid": "8f2839f25d086af736a60e9eeb907d3b93b6e0e5",
    "_cell_guid": "b1076dfc-b9ad-4769-8c92-a6c4dae69d19",
    "execution": {
     "iopub.status.busy": "2021-05-20T11:57:55.585592Z",
     "iopub.execute_input": "2021-05-20T11:57:55.586212Z",
     "iopub.status.idle": "2021-05-20T11:57:55.601274Z",
     "shell.execute_reply.started": "2021-05-20T11:57:55.586097Z",
     "shell.execute_reply": "2021-05-20T11:57:55.600195Z"
    },
    "trusted": true,
    "pycharm": {
     "name": "#%%\n"
    }
   },
   "execution_count": null,
   "outputs": []
  },
  {
   "cell_type": "code",
   "source": [
    "#!pip install openpyxl"
   ],
   "metadata": {
    "execution": {
     "iopub.status.busy": "2021-05-20T11:57:55.604838Z",
     "iopub.execute_input": "2021-05-20T11:57:55.605474Z",
     "iopub.status.idle": "2021-05-20T11:58:04.996951Z",
     "shell.execute_reply.started": "2021-05-20T11:57:55.605428Z",
     "shell.execute_reply": "2021-05-20T11:58:04.995584Z"
    },
    "trusted": true,
    "pycharm": {
     "name": "#%%\n"
    }
   },
   "execution_count": null,
   "outputs": []
  },
  {
   "cell_type": "code",
   "source": [
    "data = pd.read_excel(r\"./COAL MINING DISASTERS UK.xlsx\")"
   ],
   "metadata": {
    "execution": {
     "iopub.status.busy": "2021-05-20T11:58:04.998807Z",
     "iopub.execute_input": "2021-05-20T11:58:04.999118Z",
     "iopub.status.idle": "2021-05-20T11:58:05.264493Z",
     "shell.execute_reply.started": "2021-05-20T11:58:04.999085Z",
     "shell.execute_reply": "2021-05-20T11:58:05.263407Z"
    },
    "trusted": true,
    "pycharm": {
     "name": "#%%\n"
    }
   },
   "execution_count": null,
   "outputs": []
  },
  {
   "cell_type": "code",
   "source": [
    "data"
   ],
   "metadata": {
    "execution": {
     "iopub.status.busy": "2021-05-20T11:58:05.26636Z",
     "iopub.execute_input": "2021-05-20T11:58:05.26674Z",
     "iopub.status.idle": "2021-05-20T11:58:05.297268Z",
     "shell.execute_reply.started": "2021-05-20T11:58:05.266704Z",
     "shell.execute_reply": "2021-05-20T11:58:05.295887Z"
    },
    "trusted": true,
    "pycharm": {
     "name": "#%%\n"
    }
   },
   "execution_count": null,
   "outputs": []
  },
  {
   "cell_type": "markdown",
   "source": [
    "Consider the following time series of coal mine disasters. We build a model for this and attempt to estimate the point of change."
   ],
   "metadata": {
    "pycharm": {
     "name": "#%% md\n"
    }
   }
  },
  {
   "cell_type": "code",
   "source": [
    "data.describe()"
   ],
   "metadata": {
    "execution": {
     "iopub.status.busy": "2021-05-20T11:58:05.299754Z",
     "iopub.execute_input": "2021-05-20T11:58:05.300245Z",
     "iopub.status.idle": "2021-05-20T11:58:05.327517Z",
     "shell.execute_reply.started": "2021-05-20T11:58:05.300194Z",
     "shell.execute_reply": "2021-05-20T11:58:05.326547Z"
    },
    "trusted": true,
    "pycharm": {
     "name": "#%%\n"
    }
   },
   "execution_count": null,
   "outputs": []
  },
  {
   "cell_type": "markdown",
   "source": [
    "Hence the values are in proper range and no invalid entries exist."
   ],
   "metadata": {
    "pycharm": {
     "name": "#%% md\n"
    }
   }
  },
  {
   "cell_type": "code",
   "source": [
    "import matplotlib.pyplot as plt\n",
    "%matplotlib inline\n",
    "import pymc3 as pm\n",
    "\n",
    "from matplotlib import cycler\n",
    "colors = cycler('color',\n",
    "                ['#EE6666', '#3388BB', '#9988DD',\n",
    "                 '#EECC55', '#88BB44', '#FFBBBB'])\n",
    "plt.rc('axes', facecolor='#E6E6E6', edgecolor='none',\n",
    "       axisbelow=True, grid=True, prop_cycle=colors)\n",
    "plt.rc('grid', color='w', linestyle='solid')\n",
    "plt.rc('xtick', direction='out', color='gray')\n",
    "plt.rc('ytick', direction='out', color='gray')\n",
    "plt.rc('patch', edgecolor='#E6E6E6')\n",
    "plt.rc('lines', linewidth=2)\n",
    "\n",
    "plt.plot(data.Year, data.Count, \"*\")\n",
    "plt.ylabel(\"Number of disasters\")\n",
    "plt.xlabel(\"Year\")\n"
   ],
   "metadata": {
    "execution": {
     "iopub.status.busy": "2021-05-20T11:58:05.328904Z",
     "iopub.execute_input": "2021-05-20T11:58:05.329199Z",
     "iopub.status.idle": "2021-05-20T11:58:10.570254Z",
     "shell.execute_reply.started": "2021-05-20T11:58:05.329169Z",
     "shell.execute_reply": "2021-05-20T11:58:10.568947Z"
    },
    "trusted": true,
    "pycharm": {
     "name": "#%%\n"
    }
   },
   "execution_count": null,
   "outputs": []
  },
  {
   "cell_type": "markdown",
   "source": [
    "So most of the disasters took place at the begining,i.e, around 1860s.\n",
    "\n",
    "We aim to find the point in time where the safety regulations started to kick-in and the number of disaster was brought under control. \n",
    "\n",
    "Our main assumption here is that our data is highly influenced by the safety regulations and it's changes over time."
   ],
   "metadata": {
    "pycharm": {
     "name": "#%% md\n"
    }
   }
  },
  {
   "cell_type": "markdown",
   "source": [
    "The occurrences of disasters are thought to follow a Poisson process with a large rate parameter in the early part and one with a smaller rate in the later years.\n",
    "\n",
    "The probability mass function of a Poisson distribution is given as\n",
    "![image.png](attachment:29c5d6a3-e52b-4d5e-b70b-6d9c28b9d92b.png)\n"
   ],
   "metadata": {
    "pycharm": {
     "name": "#%% md\n"
    }
   },
   "attachments": {
    "29c5d6a3-e52b-4d5e-b70b-6d9c28b9d92b.png": {
     "image/png": "[encoded data removed]"
    }
   }
  },
  {
   "cell_type": "markdown",
   "source": [
    "**Poisson log-likelihood** is often used to model the number of events occurring in a fixed period of time when the times at which events occurr are independent.\n"
   ],
   "metadata": {
    "pycharm": {
     "name": "#%% md\n"
    }
   }
  },
  {
   "cell_type": "code",
   "source": [
    "with pm.Model() as disaster_model:  #context manager to wrap all values\n",
    "    switchpoint = pm.DiscreteUniform(\"switchpoint\", lower=data.Year.min(), upper=data.Year.max(),testval=1900)\n",
    "    \n",
    "    #priors for pre- and post-switch rates number of disasters\n",
    "    early_rate = pm.Exponential(\"early_rate\",1)\n",
    "    late_rate = pm.Exponential(\"late_rate\",1)\n",
    "    \n",
    "    #allocate appropriate Poisson rates to years before and after current\n",
    "    rate = pm.math.switch(switchpoint>=data.Year,early_rate,late_rate)\n",
    "    \n",
    "    disasters = pm.Poisson(\"disasters\",rate,observed=data.Count)\n",
    "    \n",
    "    \n",
    "    "
   ],
   "metadata": {
    "execution": {
     "iopub.status.busy": "2021-05-20T11:58:10.572345Z",
     "iopub.execute_input": "2021-05-20T11:58:10.572813Z",
     "iopub.status.idle": "2021-05-20T11:58:47.863311Z",
     "shell.execute_reply.started": "2021-05-20T11:58:10.572748Z",
     "shell.execute_reply": "2021-05-20T11:58:47.861891Z"
    },
    "trusted": true,
    "pycharm": {
     "name": "#%%\n"
    }
   },
   "execution_count": null,
   "outputs": []
  },
  {
   "cell_type": "code",
   "source": [
    "with disaster_model:\n",
    "    trace = pm.sample(1000)"
   ],
   "metadata": {
    "execution": {
     "iopub.status.busy": "2021-05-20T11:58:47.865783Z",
     "iopub.execute_input": "2021-05-20T11:58:47.866335Z",
     "iopub.status.idle": "2021-05-20T11:59:33.008304Z",
     "shell.execute_reply.started": "2021-05-20T11:58:47.866292Z",
     "shell.execute_reply": "2021-05-20T11:59:33.007171Z"
    },
    "trusted": true,
    "pycharm": {
     "name": "#%%\n"
    }
   },
   "execution_count": null,
   "outputs": []
  },
  {
   "cell_type": "code",
   "source": [
    "pm.traceplot(trace,combined=False, compact = False)\n",
    "\"\"\"A trace plot shows the sampled values per chain and node throughout iterations. It allows us to evaluate convergence and mixing of the chains visually\"\"\""
   ],
   "metadata": {
    "execution": {
     "iopub.status.busy": "2021-05-20T11:59:33.010769Z",
     "iopub.execute_input": "2021-05-20T11:59:33.011116Z",
     "iopub.status.idle": "2021-05-20T11:59:36.638568Z",
     "shell.execute_reply.started": "2021-05-20T11:59:33.011082Z",
     "shell.execute_reply": "2021-05-20T11:59:36.637786Z"
    },
    "trusted": true,
    "pycharm": {
     "name": "#%%\n"
    }
   },
   "execution_count": null,
   "outputs": []
  },
  {
   "cell_type": "markdown",
   "source": [
    "# **Conclusion**\n",
    "\n",
    "We observe the 5 years span which is most likely where the safety rules must have essential amendments, i.e, 1888-1893."
   ],
   "metadata": {
    "pycharm": {
     "name": "#%% md\n"
    }
   }
  },
  {
   "cell_type": "markdown",
   "source": [
    "Reference: \n",
    "R.G. Jarrett, A note on the intervals between coal mining disasters, Biometrika, 66:191-193, 1979."
   ],
   "metadata": {
    "pycharm": {
     "name": "#%% md\n"
    }
   }
  }
 ]
}